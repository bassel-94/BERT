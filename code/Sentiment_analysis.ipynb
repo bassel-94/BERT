{
  "nbformat": 4,
  "nbformat_minor": 0,
  "metadata": {
    "colab": {
      "name": "Sentiment_analysis.ipynb",
      "provenance": [],
      "collapsed_sections": [],
      "mount_file_id": "1Qdz1vT4d0tP_K4o_5XQiaXh1DRnacpXl",
      "authorship_tag": "ABX9TyOSh0Y9G6QX9Vvui0RLop4S",
      "include_colab_link": true
    },
    "kernelspec": {
      "name": "python3",
      "display_name": "Python 3"
    },
    "language_info": {
      "name": "python"
    },
    "accelerator": "GPU"
  },
  "cells": [
    {
      "cell_type": "markdown",
      "metadata": {
        "id": "view-in-github",
        "colab_type": "text"
      },
      "source": [
        "<a href=\"https://colab.research.google.com/github/bassel-94/BERT/blob/main/code/Sentiment_analysis.ipynb\" target=\"_parent\"><img src=\"https://colab.research.google.com/assets/colab-badge.svg\" alt=\"Open In Colab\"/></a>"
      ]
    },
    {
      "cell_type": "markdown",
      "metadata": {
        "id": "ymHRMmj6txpA"
      },
      "source": [
        "# Sentiment analysis with BERT"
      ]
    },
    {
      "cell_type": "markdown",
      "metadata": {
        "id": "Qpa28wb_zB6P"
      },
      "source": [
        "## Part I : Import libraries and data"
      ]
    },
    {
      "cell_type": "code",
      "metadata": {
        "collapsed": true,
        "id": "LjLC-63ZtscT"
      },
      "source": [
        "%pip install transformers sentencepiece"
      ],
      "execution_count": null,
      "outputs": []
    },
    {
      "cell_type": "code",
      "metadata": {
        "id": "36joUqe2x1Fn"
      },
      "source": [
        "%run /content/drive/MyDrive/functions_postprocessing.ipynb"
      ],
      "execution_count": null,
      "outputs": []
    },
    {
      "cell_type": "code",
      "metadata": {
        "id": "HhCnvqSOxxtV",
        "collapsed": true
      },
      "source": [
        "# to silence any warnings\n",
        "import warnings\n",
        "warnings.filterwarnings(\"ignore\")\n",
        "\n",
        "# import packages\n",
        "import pandas as pd\n",
        "import numpy as np\n",
        "import seaborn as sns\n",
        "import matplotlib.pyplot as plt\n",
        "from sklearn.metrics import accuracy_score, roc_auc_score, classification_report, confusion_matrix, f1_score\n",
        "\n",
        "# import transformers\n",
        "from transformers import AutoTokenizer, TFAutoModelForSequenceClassification\n",
        "from transformers import pipeline\n",
        "\n",
        "# load pretrained model and tokenizer\n",
        "tokenizer = AutoTokenizer.from_pretrained(\"tblard/tf-allocine\")\n",
        "model = TFAutoModelForSequenceClassification.from_pretrained(\"tblard/tf-allocine\")\n",
        "nlp = pipeline('sentiment-analysis', model=model, tokenizer=tokenizer)"
      ],
      "execution_count": null,
      "outputs": []
    },
    {
      "cell_type": "code",
      "metadata": {
        "id": "5TaS6QNyyMW0",
        "colab": {
          "base_uri": "https://localhost:8080/",
          "height": 224
        },
        "outputId": "da70a213-6dc2-426d-ea01-c85f17d63803"
      },
      "source": [
        "df = pd.read_csv(\"./raw_data.csv\", index_col = 0).dropna()\n",
        "print(df.shape)\n",
        "df.head()"
      ],
      "execution_count": null,
      "outputs": [
        {
          "output_type": "stream",
          "text": [
            "(13827, 5)\n"
          ],
          "name": "stdout"
        },
        {
          "output_type": "execute_result",
          "data": {
            "text/html": [
              "<div>\n",
              "<style scoped>\n",
              "    .dataframe tbody tr th:only-of-type {\n",
              "        vertical-align: middle;\n",
              "    }\n",
              "\n",
              "    .dataframe tbody tr th {\n",
              "        vertical-align: top;\n",
              "    }\n",
              "\n",
              "    .dataframe thead th {\n",
              "        text-align: right;\n",
              "    }\n",
              "</style>\n",
              "<table border=\"1\" class=\"dataframe\">\n",
              "  <thead>\n",
              "    <tr style=\"text-align: right;\">\n",
              "      <th></th>\n",
              "      <th>name</th>\n",
              "      <th>date</th>\n",
              "      <th>notes</th>\n",
              "      <th>company</th>\n",
              "      <th>comments</th>\n",
              "    </tr>\n",
              "  </thead>\n",
              "  <tbody>\n",
              "    <tr>\n",
              "      <th>0</th>\n",
              "      <td>Kassandre</td>\n",
              "      <td>jeudi 25 mars 2021 à 07:23</td>\n",
              "      <td>1.0</td>\n",
              "      <td>groupama</td>\n",
              "      <td>J'ai résilié mon contrat de mutuelle en DÉCEMB...</td>\n",
              "    </tr>\n",
              "    <tr>\n",
              "      <th>1</th>\n",
              "      <td>MM</td>\n",
              "      <td>mardi 23 mars 2021 à 13:21</td>\n",
              "      <td>2.5</td>\n",
              "      <td>groupama</td>\n",
              "      <td>Deux petits sinistres indemnisés et,... un cou...</td>\n",
              "    </tr>\n",
              "    <tr>\n",
              "      <th>2</th>\n",
              "      <td>LFA156</td>\n",
              "      <td>mardi 23 mars 2021 à 12:24</td>\n",
              "      <td>2.0</td>\n",
              "      <td>groupama</td>\n",
              "      <td>Bonjour, Mon motif d'insatisfaction concerne l...</td>\n",
              "    </tr>\n",
              "    <tr>\n",
              "      <th>3</th>\n",
              "      <td>Claude59</td>\n",
              "      <td>lundi 22 mars 2021 à 22:57</td>\n",
              "      <td>1.0</td>\n",
              "      <td>groupama</td>\n",
              "      <td>Avis à tous mes prospects GROUPAMA: Fuyez pauv...</td>\n",
              "    </tr>\n",
              "    <tr>\n",
              "      <th>4</th>\n",
              "      <td>Hannah</td>\n",
              "      <td>lundi 22 mars 2021 à 14:09</td>\n",
              "      <td>1.0</td>\n",
              "      <td>groupama</td>\n",
              "      <td>Suite à un 'envoi' que je n ai jamais reçu mon...</td>\n",
              "    </tr>\n",
              "  </tbody>\n",
              "</table>\n",
              "</div>"
            ],
            "text/plain": [
              "        name  ...                                           comments\n",
              "0  Kassandre  ...  J'ai résilié mon contrat de mutuelle en DÉCEMB...\n",
              "1         MM  ...  Deux petits sinistres indemnisés et,... un cou...\n",
              "2     LFA156  ...  Bonjour, Mon motif d'insatisfaction concerne l...\n",
              "3   Claude59  ...  Avis à tous mes prospects GROUPAMA: Fuyez pauv...\n",
              "4     Hannah  ...  Suite à un 'envoi' que je n ai jamais reçu mon...\n",
              "\n",
              "[5 rows x 5 columns]"
            ]
          },
          "metadata": {
            "tags": []
          },
          "execution_count": 4
        }
      ]
    },
    {
      "cell_type": "code",
      "metadata": {
        "colab": {
          "base_uri": "https://localhost:8080/"
        },
        "id": "kAvDtH7Yyle4",
        "outputId": "7046bc03-c2a2-4ab2-95f1-acb8b97e614e"
      },
      "source": [
        "# print the concurrence\n",
        "print(\"companies are\", \" \".join(df.company.unique()))\n",
        "df = df.sort_values('company').reset_index(drop=True)"
      ],
      "execution_count": null,
      "outputs": [
        {
          "output_type": "stream",
          "text": [
            "companies are groupama maif maaf pacifica credit-mutuel axa\n"
          ],
          "name": "stdout"
        }
      ]
    },
    {
      "cell_type": "markdown",
      "metadata": {
        "id": "DHatzaXrzKqt"
      },
      "source": [
        "## Part II : Build sentiment column and explore count\n",
        "\n",
        "To do sentiment analysis, we will first consider the extemes (pos and neg sentiment). To do so we\n",
        "\n",
        "* load the raw data of all insurance companies (13.8k of data)\n",
        "* divid into two extemes based on the column \"note\" (1 & 1.5 for negatives and 4.5 & 5 for positives)\n",
        "* make predictions using the finetuned camemBERT of allo ciné\n",
        "* save the dataframe containing the predictions \n",
        "* analyze the error"
      ]
    },
    {
      "cell_type": "code",
      "metadata": {
        "colab": {
          "base_uri": "https://localhost:8080/"
        },
        "id": "8S41RqiPzXNT",
        "outputId": "8bbb8a84-3479-4227-f058-1544ad7f0108"
      },
      "source": [
        "# transform notes to string\n",
        "df[[\"notes\"]] = df[[\"notes\"]].astype(str)\n",
        "\n",
        "# filter positif comments using 5 and 4.5 ratings only and get comments & notes column\n",
        "df_pos = df.loc[(df.notes == \"5.0\") | (df.notes == \"4.5\" ), :]\n",
        "\n",
        "# create a column for labels\n",
        "df_pos[\"sentiment\"] = [\"POSITIVE\"]*len(df_pos)\n",
        "\n",
        "# filter negative comments using 1 and 1.5 ratings only and get comments & notes column\n",
        "df_neg = df.loc[(df.notes == \"1.0\") | (df.notes == \"1.5\" ), :]\n",
        "\n",
        "# create a column for labels\n",
        "df_neg[\"sentiment\"] = [\"NEGATIVE\"]*len(df_neg)\n",
        "\n",
        "# concatenate row wise the two dataframes and print stats\n",
        "df_sent = pd.concat([df_pos, df_neg], axis = 0)\n",
        "print(\"we have {} positive reviews and {} negative reviews\" .format(df_pos.shape[0], df_neg.shape[0]))"
      ],
      "execution_count": null,
      "outputs": [
        {
          "output_type": "stream",
          "text": [
            "we have 1358 positive reviews and 5059 negative reviews\n"
          ],
          "name": "stdout"
        }
      ]
    },
    {
      "cell_type": "code",
      "metadata": {
        "colab": {
          "base_uri": "https://localhost:8080/",
          "height": 489
        },
        "id": "LGTYxyWxzZAl",
        "outputId": "528ab745-a0eb-4365-d4e5-5bf3f5fac458"
      },
      "source": [
        "# plot results of positive and negative reviews\n",
        "sentiment_counts = (df_sent.groupby(['company'])['sentiment']\n",
        "                     .value_counts(normalize=True)\n",
        "                     .rename('percentage')\n",
        "                     .mul(100)\n",
        "                     .reset_index()\n",
        "                     .sort_values('company'))\n",
        "\n",
        "plt.figure(figsize=(12, 8));\n",
        "g = sns.catplot(x=\"sentiment\", y=\"percentage\", hue=\"company\", data=sentiment_counts, kind = 'bar',height=6, aspect=2);\n",
        "\n",
        "# add titles\n",
        "plt.xlabel(\"Label\");\n",
        "plt.ylabel(\"Percentage\");\n",
        "plt.title(\"Bar plot of binary sentiment count. we have {} positive reviews and {} negative reviews\" .format(df_pos.shape[0], df_neg.shape[0]));\n",
        "\n",
        "for p in g.ax.patches:\n",
        "    txt = str(p.get_height().round(2)) + '%'\n",
        "    txt_x = p.get_x()+0.01\n",
        "    txt_y = p.get_height()+1.5\n",
        "    g.ax.text(txt_x,txt_y,txt);"
      ],
      "execution_count": null,
      "outputs": [
        {
          "output_type": "display_data",
          "data": {
            "text/plain": [
              "<Figure size 864x576 with 0 Axes>"
            ]
          },
          "metadata": {
            "tags": []
          }
        },
        {
          "output_type": "display_data",
          "data": {
            "image/png": "[encoded data removed]",
            "text/plain": [
              "<Figure size 967.5x432 with 1 Axes>"
            ]
          },
          "metadata": {
            "tags": [],
            "needs_background": "light"
          }
        }
      ]
    },
    {
      "cell_type": "markdown",
      "metadata": {
        "id": "n91C81vj0PDY"
      },
      "source": [
        "## Part III : Get sentiment predictions and probabilities"
      ]
    },
    {
      "cell_type": "code",
      "metadata": {
        "id": "8idHvFaMDxBl"
      },
      "source": [
        "#df_subset = df_sent.loc[:, [\"company\", \"comments\", \"notes\", \"sentiment\"]].sample(n=10, random_state=10)\n",
        "#df_subset"
      ],
      "execution_count": null,
      "outputs": []
    },
    {
      "cell_type": "code",
      "metadata": {
        "id": "MZlqF3eAFYMB"
      },
      "source": [
        "df_sent = get_sentiment_prediction(df = df_sent, model = model, tokenizer=tokenizer)"
      ],
      "execution_count": null,
      "outputs": []
    },
    {
      "cell_type": "code",
      "metadata": {
        "colab": {
          "base_uri": "https://localhost:8080/",
          "height": 205
        },
        "id": "2M35erb0BhFK",
        "outputId": "4321f55f-aa1c-467e-d44e-cde0093aa459"
      },
      "source": [
        "df_sent.head()"
      ],
      "execution_count": null,
      "outputs": [
        {
          "output_type": "execute_result",
          "data": {
            "text/html": [
              "<div>\n",
              "<style scoped>\n",
              "    .dataframe tbody tr th:only-of-type {\n",
              "        vertical-align: middle;\n",
              "    }\n",
              "\n",
              "    .dataframe tbody tr th {\n",
              "        vertical-align: top;\n",
              "    }\n",
              "\n",
              "    .dataframe thead th {\n",
              "        text-align: right;\n",
              "    }\n",
              "</style>\n",
              "<table border=\"1\" class=\"dataframe\">\n",
              "  <thead>\n",
              "    <tr style=\"text-align: right;\">\n",
              "      <th></th>\n",
              "      <th>name</th>\n",
              "      <th>date</th>\n",
              "      <th>notes</th>\n",
              "      <th>company</th>\n",
              "      <th>comments</th>\n",
              "      <th>sentiment</th>\n",
              "      <th>predicted_sentiment</th>\n",
              "      <th>predicted_probability</th>\n",
              "    </tr>\n",
              "  </thead>\n",
              "  <tbody>\n",
              "    <tr>\n",
              "      <th>33</th>\n",
              "      <td>patrice.31320</td>\n",
              "      <td>mardi 22 mars 2016 à 20:35</td>\n",
              "      <td>5.0</td>\n",
              "      <td>axa</td>\n",
              "      <td>Prix et garanties imbattables comparés aux aut...</td>\n",
              "      <td>POSITIVE</td>\n",
              "      <td>POSITIVE</td>\n",
              "      <td>0.915408</td>\n",
              "    </tr>\n",
              "    <tr>\n",
              "      <th>80</th>\n",
              "      <td>steph</td>\n",
              "      <td>vendredi 03 juin 2016 à 04:04</td>\n",
              "      <td>5.0</td>\n",
              "      <td>axa</td>\n",
              "      <td>SUPER ASSURANCE J AI 3 VEHICULES un 4X4 une 20...</td>\n",
              "      <td>POSITIVE</td>\n",
              "      <td>POSITIVE</td>\n",
              "      <td>0.969007</td>\n",
              "    </tr>\n",
              "    <tr>\n",
              "      <th>140</th>\n",
              "      <td>ludo</td>\n",
              "      <td>mardi 14 juillet 2015 à 01:21</td>\n",
              "      <td>5.0</td>\n",
              "      <td>axa</td>\n",
              "      <td>Excellent ! Les prix, l'accueil, les garanties...</td>\n",
              "      <td>POSITIVE</td>\n",
              "      <td>POSITIVE</td>\n",
              "      <td>0.998310</td>\n",
              "    </tr>\n",
              "    <tr>\n",
              "      <th>149</th>\n",
              "      <td>papimoto</td>\n",
              "      <td>jeudi 20 août 2015 à 17:23</td>\n",
              "      <td>5.0</td>\n",
              "      <td>axa</td>\n",
              "      <td>Assurance très sérieuse qui enrobe passager et...</td>\n",
              "      <td>POSITIVE</td>\n",
              "      <td>NEGATIVE</td>\n",
              "      <td>0.543781</td>\n",
              "    </tr>\n",
              "    <tr>\n",
              "      <th>159</th>\n",
              "      <td>bb</td>\n",
              "      <td>vendredi 05 février 2016 à 23:25</td>\n",
              "      <td>5.0</td>\n",
              "      <td>axa</td>\n",
              "      <td>bonjour juste pour dire que le contrat AMV de ...</td>\n",
              "      <td>POSITIVE</td>\n",
              "      <td>NEGATIVE</td>\n",
              "      <td>0.700319</td>\n",
              "    </tr>\n",
              "  </tbody>\n",
              "</table>\n",
              "</div>"
            ],
            "text/plain": [
              "              name  ... predicted_probability\n",
              "33   patrice.31320  ...              0.915408\n",
              "80           steph  ...              0.969007\n",
              "140           ludo  ...              0.998310\n",
              "149       papimoto  ...              0.543781\n",
              "159             bb  ...              0.700319\n",
              "\n",
              "[5 rows x 8 columns]"
            ]
          },
          "metadata": {
            "tags": []
          },
          "execution_count": 11
        }
      ]
    }
  ]
}